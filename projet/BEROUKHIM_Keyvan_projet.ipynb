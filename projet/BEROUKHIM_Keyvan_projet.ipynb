{
 "cells": [
  {
   "cell_type": "markdown",
   "metadata": {},
   "source": [
    "# Projet ARF Inpainting"
   ]
  },
  {
   "cell_type": "markdown",
   "metadata": {},
   "source": [
    "# BEROUKHIM Keyvan"
   ]
  },
  {
   "cell_type": "markdown",
   "metadata": {},
   "source": [
    "## Préambule"
   ]
  },
  {
   "cell_type": "code",
   "execution_count": 1,
   "metadata": {},
   "outputs": [],
   "source": [
    "import sklearn.linear_model\n",
    "from sklearn.metrics import accuracy_score\n",
    "import numpy as np\n",
    "from utils import *"
   ]
  },
  {
   "cell_type": "code",
   "execution_count": 2,
   "metadata": {},
   "outputs": [],
   "source": [
    "import sys\n",
    "del sys.modules['utils']\n",
    "from utils import *"
   ]
  },
  {
   "cell_type": "code",
   "execution_count": 3,
   "metadata": {},
   "outputs": [],
   "source": [
    "def load_usps(filename):\n",
    "    with open(filename, \"r\") as f:\n",
    "        f.readline()\n",
    "        data = [[float(x) for x in l.split()] for l in f if len(l.split()) > 2]\n",
    "    tmp = np.array(data)\n",
    "    return tmp[:, 1:], tmp[:, 0].astype(int)\n",
    "\n",
    "def keep_two(x, y, c0, c1):\n",
    "    ind_kept = np.where((y==c0) | (y==c1))[0]\n",
    "    return x[ind_kept], np.array([-1 if e==0 else 1 for e in y[ind_kept]])"
   ]
  },
  {
   "cell_type": "code",
   "execution_count": 4,
   "metadata": {},
   "outputs": [],
   "source": [
    "c0 = 0\n",
    "c1 = 1"
   ]
  },
  {
   "cell_type": "code",
   "execution_count": 5,
   "metadata": {},
   "outputs": [],
   "source": [
    "train_x, train_y = keep_two(*load_usps(\"USPS_train.txt\"), c0, c1)\n",
    "test_x , test_y  = keep_two(*load_usps(\"USPS_test.txt\" ), c0, c1)"
   ]
  },
  {
   "cell_type": "code",
   "execution_count": 6,
   "metadata": {},
   "outputs": [],
   "source": [
    "models = [\n",
    "    sklearn.linear_model.LinearRegression(),\n",
    "    sklearn.linear_model.Ridge(alpha=.5),\n",
    "    sklearn.linear_model.Lasso(alpha=.001)\n",
    "]"
   ]
  },
  {
   "cell_type": "code",
   "execution_count": 7,
   "metadata": {},
   "outputs": [
    {
     "name": "stdout",
     "output_type": "stream",
     "text": [
      "régularisation 0\n",
      "précision train 1.0\n",
      "précision test 0.9839486356340289\n",
      "nb poids non nuls 255\n",
      "\n",
      "régularisation 1\n",
      "précision train 1.0\n",
      "précision test 0.9871589085072231\n",
      "nb poids non nuls 254\n",
      "\n",
      "régularisation 2\n",
      "précision train 0.9995452478399273\n",
      "précision test 0.9903691813804173\n",
      "nb poids non nuls 97\n",
      "\n"
     ]
    }
   ],
   "source": [
    "for i, m in enumerate(models):\n",
    "    print(\"régularisation\", i)\n",
    "    m.fit(train_x, train_y)\n",
    "    print(\"précision train\", accuracy_score(np.sign(m.predict(train_x)), train_y))\n",
    "    print(\"précision test\", accuracy_score(np.sign(m.predict(test_x)), test_y))\n",
    "    print(\"nb poids non nuls\", np.nonzero(m.coef_)[0].size)\n",
    "    print()"
   ]
  },
  {
   "cell_type": "markdown",
   "metadata": {},
   "source": [
    "## La méthode lasso minimise la somme des poids utilisés, le nombre de poids non nuls est plus faible qu'avec MSE mais ce n'est pas équivalent à minimiser le nombre de poids non nuls : Le modèle préfère expliquer les patchs par des patchs avec des coefficients plus forts (plus clairs en RGB) afin d'utiliser des poids faibles."
   ]
  },
  {
   "cell_type": "code",
   "execution_count": 10,
   "metadata": {},
   "outputs": [
    {
     "name": "stdout",
     "output_type": "stream",
     "text": [
      "image (61, 80, 3) nb pixels 4880\n"
     ]
    },
    {
     "data": {
      "image/png": "[encoded data removed]",
      "text/plain": [
       "<Figure size 432x288 with 1 Axes>"
      ]
     },
     "metadata": {
      "needs_background": "light"
     },
     "output_type": "display_data"
    }
   ],
   "source": [
    "im = read_im(\"degrade2_petit.png\")\n",
    "print(\"image\", im.shape, \"nb pixels\", im.size // 3)\n",
    "print_im(im)"
   ]
  },
  {
   "cell_type": "code",
   "execution_count": 15,
   "metadata": {},
   "outputs": [
    {
     "name": "stderr",
     "output_type": "stream",
     "text": [
      "Clipping input data to the valid range for imshow with RGB data ([0..1] for floats or [0..255] for integers).\n"
     ]
    },
    {
     "name": "stdout",
     "output_type": "stream",
     "text": [
      "nb à reconstruire 48\n"
     ]
    },
    {
     "name": "stderr",
     "output_type": "stream",
     "text": [
      "/home/keyvan/.local/lib/python3.5/site-packages/sklearn/linear_model/coordinate_descent.py:492: ConvergenceWarning: Objective did not converge. You might want to increase the number of iterations. Fitting data with very small alpha may cause precision problems.\n",
      "  ConvergenceWarning)\n",
      "/home/keyvan/.local/lib/python3.5/site-packages/sklearn/linear_model/coordinate_descent.py:492: ConvergenceWarning: Objective did not converge. You might want to increase the number of iterations. Fitting data with very small alpha may cause precision problems.\n",
      "  ConvergenceWarning)\n",
      "/home/keyvan/.local/lib/python3.5/site-packages/sklearn/linear_model/coordinate_descent.py:492: ConvergenceWarning: Objective did not converge. You might want to increase the number of iterations. Fitting data with very small alpha may cause precision problems.\n",
      "  ConvergenceWarning)\n"
     ]
    },
    {
     "name": "stdout",
     "output_type": "stream",
     "text": [
      "loss 7.464085e-07\n"
     ]
    },
    {
     "data": {
      "image/png": "[encoded data removed]",
      "text/plain": [
       "<Figure size 432x288 with 1 Axes>"
      ]
     },
     "metadata": {
      "needs_background": "light"
     },
     "output_type": "display_data"
    },
    {
     "data": {
      "image/png": "[encoded data removed]",
      "text/plain": [
       "<Figure size 432x288 with 1 Axes>"
      ]
     },
     "metadata": {
      "needs_background": "light"
     },
     "output_type": "display_data"
    }
   ],
   "source": [
    "p = .01\n",
    "bruitee = noise(im, p)\n",
    "print(\"nb à reconstruire\", int(im.size // 3 * p))\n",
    "print_im(bruitee)\n",
    "undo_noise(bruitee, alpha=.001)\n",
    "print_im(bruitee)\n",
    "print(\"loss\", np.mean(np.power(im - bruitee, 2)))\n",
    "plt.show()"
   ]
  },
  {
   "cell_type": "code",
   "execution_count": 12,
   "metadata": {},
   "outputs": [
    {
     "name": "stderr",
     "output_type": "stream",
     "text": [
      "Clipping input data to the valid range for imshow with RGB data ([0..1] for floats or [0..255] for integers).\n"
     ]
    },
    {
     "name": "stdout",
     "output_type": "stream",
     "text": [
      "nb à reconstruire 242\n",
      "0 / 4\n",
      "1 / 4\n",
      "2 / 4\n",
      "3 / 4\n",
      "loss 0.00023898356\n"
     ]
    },
    {
     "data": {
      "image/png": "[encoded data removed]",
      "text/plain": [
       "<Figure size 432x288 with 1 Axes>"
      ]
     },
     "metadata": {
      "needs_background": "light"
     },
     "output_type": "display_data"
    },
    {
     "data": {
      "image/png": "[encoded data removed]",
      "text/plain": [
       "<Figure size 432x288 with 1 Axes>"
      ]
     },
     "metadata": {
      "needs_background": "light"
     },
     "output_type": "display_data"
    }
   ],
   "source": [
    "rectangles = [\n",
    "    (20,20,2,10),\n",
    "    (50,20,8,16),\n",
    "    (25,50,8,8),\n",
    "    (50,60,3,10),\n",
    "]\n",
    "bruitee = im\n",
    "for r in rectangles:\n",
    "    bruitee = delete_rec(bruitee,r)\n",
    "print(\"nb à reconstruire\", sum(r[2]*r[3] for r in rectangles))\n",
    "print_im(bruitee)\n",
    "for i, r in enumerate(rectangles):\n",
    "    print(i, \"/\", len(rectangles))\n",
    "    undo_rect(bruitee,r, w=3, alpha=.01)\n",
    "print_im(bruitee)\n",
    "print(\"loss\", np.mean(np.power(im - bruitee, 2)))\n",
    "plt.show()\n"
   ]
  },
  {
   "cell_type": "markdown",
   "metadata": {},
   "source": [
    "## Sur des images simples, la méthode marche relativement bien pour des points mais pas pour des plus grandes zones"
   ]
  },
  {
   "cell_type": "code",
   "execution_count": null,
   "metadata": {},
   "outputs": [],
   "source": []
  }
 ],
 "metadata": {
  "kernelspec": {
   "display_name": "Python 3",
   "language": "python",
   "name": "python3"
  },
  "language_info": {
   "codemirror_mode": {
    "name": "ipython",
    "version": 3
   },
   "file_extension": ".py",
   "mimetype": "text/x-python",
   "name": "python",
   "nbconvert_exporter": "python",
   "pygments_lexer": "ipython3",
   "version": "3.5.3"
  }
 },
 "nbformat": 4,
 "nbformat_minor": 2
}
