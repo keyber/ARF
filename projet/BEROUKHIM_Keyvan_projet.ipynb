{
 "cells": [
  {
   "cell_type": "markdown",
   "metadata": {},
   "source": [
    "# Projet ARF Inpainting"
   ]
  },
  {
   "cell_type": "markdown",
   "metadata": {},
   "source": [
    "# BEROUKHIM Keyvan"
   ]
  },
  {
   "cell_type": "markdown",
   "metadata": {},
   "source": [
    "## Préambule"
   ]
  },
  {
   "cell_type": "code",
   "execution_count": 55,
   "metadata": {},
   "outputs": [],
   "source": [
    "import sklearn.linear_model\n",
    "from sklearn.metrics import accuracy_score\n",
    "import numpy as np"
   ]
  },
  {
   "cell_type": "code",
   "execution_count": 65,
   "metadata": {},
   "outputs": [],
   "source": [
    "def load_usps(filename):\n",
    "    with open(filename, \"r\") as f:\n",
    "        f.readline()\n",
    "        data = [[float(x) for x in l.split()] for l in f if len(l.split()) > 2]\n",
    "    tmp = np.array(data)\n",
    "    return tmp[:, 1:], tmp[:, 0].astype(int)\n",
    "\n",
    "def keep_two(x, y, c0, c1):\n",
    "    ind_kept = np.where((y==c0) | (y==c1))[0]\n",
    "    return x[ind_kept], np.array([-1 if e==0 else 1 for e in y[ind_kept]])"
   ]
  },
  {
   "cell_type": "code",
   "execution_count": 66,
   "metadata": {},
   "outputs": [],
   "source": [
    "c0 = 0\n",
    "c1 = 1"
   ]
  },
  {
   "cell_type": "code",
   "execution_count": 67,
   "metadata": {},
   "outputs": [],
   "source": [
    "train_x, train_y = keep_two(*load_usps(\"USPS_train.txt\"), c0, c1)\n",
    "test_x , test_y  = keep_two(*load_usps(\"USPS_test.txt\" ), c0, c1)"
   ]
  },
  {
   "cell_type": "code",
   "execution_count": 71,
   "metadata": {},
   "outputs": [],
   "source": [
    "models = [\n",
    "    sklearn.linear_model.LinearRegression(),\n",
    "    sklearn.linear_model.Ridge(alpha=.5),\n",
    "    sklearn.linear_model.Lasso(alpha=.001)\n",
    "]"
   ]
  },
  {
   "cell_type": "code",
   "execution_count": 69,
   "metadata": {},
   "outputs": [
    {
     "name": "stdout",
     "output_type": "stream",
     "text": [
      "régularisation 0\n",
      "précision train 1.0\n",
      "précision test 0.9839486356340289\n",
      "nb poids non nuls 255\n",
      "\n",
      "régularisation 1\n",
      "précision train 1.0\n",
      "précision test 0.9871589085072231\n",
      "nb poids non nuls 254\n",
      "\n",
      "régularisation 2\n",
      "précision train 0.9995452478399273\n",
      "précision test 0.9903691813804173\n",
      "nb poids non nuls 97\n",
      "\n"
     ]
    }
   ],
   "source": [
    "for i, m in enumerate(models):\n",
    "    print(\"régularisation\", i)\n",
    "    m.fit(train_x, train_y)\n",
    "    print(\"précision train\", accuracy_score(np.sign(m.predict(train_x)), train_y))\n",
    "    print(\"précision test\", accuracy_score(np.sign(m.predict(test_x)), test_y))\n",
    "    print(\"nb poids non nuls\", np.nonzero(m.coef_)[0].size)\n",
    "    print()"
   ]
  },
  {
   "cell_type": "code",
   "execution_count": null,
   "metadata": {},
   "outputs": [],
   "source": []
  }
 ],
 "metadata": {
  "kernelspec": {
   "display_name": "Python 3",
   "language": "python",
   "name": "python3"
  },
  "language_info": {
   "codemirror_mode": {
    "name": "ipython",
    "version": 3
   },
   "file_extension": ".py",
   "mimetype": "text/x-python",
   "name": "python",
   "nbconvert_exporter": "python",
   "pygments_lexer": "ipython3",
   "version": "3.5.3"
  }
 },
 "nbformat": 4,
 "nbformat_minor": 2
}
